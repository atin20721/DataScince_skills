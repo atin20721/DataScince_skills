{
 "cells": [
  {
   "cell_type": "markdown",
   "id": "a6eeef5a-79e5-42cc-bc76-03c95806c23d",
   "metadata": {},
   "source": [
    "### Consider the below code to answer further questions:"
   ]
  },
  {
   "cell_type": "code",
   "execution_count": 1,
   "id": "d886702f-4962-449d-a106-d703f32a10b7",
   "metadata": {},
   "outputs": [],
   "source": [
    "import numpy as np\n",
    "\n",
    "list_ = ['1','2','3','4','5']\n",
    "\n",
    "array_list = np.array(object = list_)"
   ]
  },
  {
   "cell_type": "code",
   "execution_count": 2,
   "id": "5dff332a-3335-4777-9d5c-20dbbfaeb137",
   "metadata": {},
   "outputs": [
    {
     "data": {
      "text/plain": [
       "array(['1', '2', '3', '4', '5'], dtype='<U1')"
      ]
     },
     "execution_count": 2,
     "metadata": {},
     "output_type": "execute_result"
    }
   ],
   "source": [
    "# Viewing array_list\n",
    "array_list"
   ]
  },
  {
   "cell_type": "markdown",
   "id": "37473def-2a06-4044-8303-6ce47fce521e",
   "metadata": {},
   "source": [
    "### Queston 1 : Is there any difference in the data type of variables list_ and array_list? If there is then write a code to print the data types of both the variables"
   ]
  },
  {
   "cell_type": "markdown",
   "id": "3478fcea-f15d-41e1-9b97-75540f1cacb5",
   "metadata": {},
   "source": [
    "### Answer :\n",
    "### Yes, there is a difference in the data type of the list_ and array_list variables.\n",
    "#### The list_ variable is a Python list of strings, whereas array_list is a NumPy array of strings. Although they both contain the same string values, they have different data types because they are different types of objects.\n",
    "#### Code to check type below :"
   ]
  },
  {
   "cell_type": "code",
   "execution_count": 4,
   "id": "8da98167-a64d-4961-b7a0-c72d32f91914",
   "metadata": {},
   "outputs": [
    {
     "name": "stdout",
     "output_type": "stream",
     "text": [
      "Type of list_ is : <class 'list'>\n",
      "Type of array_list is : <class 'numpy.ndarray'>\n"
     ]
    }
   ],
   "source": [
    "# Checking type of list_ and array_list\n",
    "print('Type of list_ is :',type(list_))\n",
    "print('Type of array_list is :',type(array_list))"
   ]
  },
  {
   "cell_type": "markdown",
   "id": "63381bab-6820-410c-be58-c73007df83cd",
   "metadata": {},
   "source": [
    "#### Question 2: Write a code to print the data type of each and every element of both the variables list_ and array_list."
   ]
  },
  {
   "cell_type": "markdown",
   "id": "e0d45725-e1d3-4983-a64f-3256b66a1959",
   "metadata": {},
   "source": [
    "### Answer:"
   ]
  },
  {
   "cell_type": "code",
   "execution_count": 5,
   "id": "6229b1f9-6463-450f-890e-2655843a4904",
   "metadata": {},
   "outputs": [
    {
     "name": "stdout",
     "output_type": "stream",
     "text": [
      "Element value : 1, datatype = <class 'str'>\n",
      "Element value : 2, datatype = <class 'str'>\n",
      "Element value : 3, datatype = <class 'str'>\n",
      "Element value : 4, datatype = <class 'str'>\n",
      "Element value : 5, datatype = <class 'str'>\n"
     ]
    }
   ],
   "source": [
    "# Printing data types of each and every element in list_:\n",
    "for i in list_:\n",
    "    print(f'Element value : {i}, datatype = {type(i)}')"
   ]
  },
  {
   "cell_type": "code",
   "execution_count": 6,
   "id": "73af9ccd-3b01-4eec-9038-495d00f728f7",
   "metadata": {},
   "outputs": [
    {
     "name": "stdout",
     "output_type": "stream",
     "text": [
      "Element value : 1, datatype = <class 'numpy.str_'>\n",
      "Element value : 2, datatype = <class 'numpy.str_'>\n",
      "Element value : 3, datatype = <class 'numpy.str_'>\n",
      "Element value : 4, datatype = <class 'numpy.str_'>\n",
      "Element value : 5, datatype = <class 'numpy.str_'>\n"
     ]
    }
   ],
   "source": [
    "# Printing data types of each and every element in array_list\n",
    "for i in array_list:\n",
    "    print(f'Element value : {i}, datatype = {type(i)}')"
   ]
  },
  {
   "cell_type": "markdown",
   "id": "04d93e38-c8de-447a-b364-34b4e716b288",
   "metadata": {},
   "source": [
    "#### "
   ]
  },
  {
   "cell_type": "markdown",
   "id": "7be2c86d-0f58-4d42-912b-49e4360d976d",
   "metadata": {},
   "source": [
    "#### Question 3: Considering the following changes in the variable, array_list:"
   ]
  },
  {
   "cell_type": "markdown",
   "id": "949c7c7b-149b-4739-bf4e-e3900ffd9d9c",
   "metadata": {},
   "source": [
    "array_list = np.array(object = list_, dtype = int)\n",
    "# Viewing array_list\n",
    "array_list\n",
    "array([1, 2, 3, 4, 5])\n",
    "\n",
    "#### Will there be any difference in the data type of the elements present in both the variables, list_ and array_list? If so then print the data types of each and every element present in both the variables, list_and array_list."
   ]
  },
  {
   "cell_type": "markdown",
   "id": "7e71f53a-eb3b-4011-b893-df373249112a",
   "metadata": {},
   "source": [
    "### "
   ]
  },
  {
   "cell_type": "markdown",
   "id": "bab8fe28-522c-4499-b3d9-d6d31c3b1620",
   "metadata": {},
   "source": [
    "### Answer:"
   ]
  },
  {
   "cell_type": "markdown",
   "id": "ef7e60ed-1e72-4ea6-a9f8-32d750118abe",
   "metadata": {},
   "source": [
    "Yes There will be difference in datatypes of elements present in both lists.\n",
    "List elements will have data type string and array_list will have datatype numpy integer\n",
    "Below is code for showing same"
   ]
  },
  {
   "cell_type": "code",
   "execution_count": 8,
   "id": "75a0a4e4-56f0-432a-a708-13b3906b0844",
   "metadata": {},
   "outputs": [
    {
     "name": "stdout",
     "output_type": "stream",
     "text": [
      "Element value : 1, datatype = <class 'str'>\n",
      "Element value : 2, datatype = <class 'str'>\n",
      "Element value : 3, datatype = <class 'str'>\n",
      "Element value : 4, datatype = <class 'str'>\n",
      "Element value : 5, datatype = <class 'str'>\n"
     ]
    }
   ],
   "source": [
    "# Printing data types of each and every element in list_:\n",
    "for i in list_:\n",
    "    print(f'Element value : {i}, datatype = {type(i)}')"
   ]
  },
  {
   "cell_type": "code",
   "execution_count": 9,
   "id": "bd3fcc1d-2574-46c6-8200-7ed52c1f22c3",
   "metadata": {},
   "outputs": [
    {
     "name": "stdout",
     "output_type": "stream",
     "text": [
      "Element value : 1, datatype = <class 'numpy.str_'>\n",
      "Element value : 2, datatype = <class 'numpy.str_'>\n",
      "Element value : 3, datatype = <class 'numpy.str_'>\n",
      "Element value : 4, datatype = <class 'numpy.str_'>\n",
      "Element value : 5, datatype = <class 'numpy.str_'>\n"
     ]
    }
   ],
   "source": [
    "# Printing data types of each and every element in modified array_list\n",
    "for i in array_list:\n",
    "    print(f'Element value : {i}, datatype = {type(i)}')"
   ]
  },
  {
   "cell_type": "markdown",
   "id": "4af81d47-b837-42ab-8ec9-a39627eeb382",
   "metadata": {},
   "source": [
    "# Consider the below code to answer further questions:\n",
    "import numpy as np\n",
    "\n",
    "num_list = [ [ 1 , 2 , 3 ] , [ 4 , 5 , 6 ] ]\n",
    "\n",
    "num_array = np.array(object = num_list)\n",
    "# Viewing num_array\n",
    "num_array\n",
    "array([[1, 2, 3],\n",
    "       [4, 5, 6]])"
   ]
  },
  {
   "cell_type": "markdown",
   "id": "8f0db7ec-08e0-4c21-8c76-306ed8a71d14",
   "metadata": {},
   "source": [
    "# Question 4: Write a code to find the following characteristics of variable, num_array:"
   ]
  },
  {
   "cell_type": "markdown",
   "id": "5fd82ed2-bcb9-4662-be45-60480a522ec9",
   "metadata": {},
   "source": [
    "1. shape\n",
    "2. size"
   ]
  },
  {
   "cell_type": "markdown",
   "id": "eb7f0a9e-83b0-4a10-b9ed-b069fd451a1a",
   "metadata": {},
   "source": [
    "# Answer"
   ]
  },
  {
   "cell_type": "code",
   "execution_count": 16,
   "id": "f8a4db8b-5da9-4f81-9a6c-8bda3adc0a68",
   "metadata": {},
   "outputs": [
    {
     "data": {
      "text/plain": [
       "array([[1, 2, 3],\n",
       "       [4, 5, 6]])"
      ]
     },
     "execution_count": 16,
     "metadata": {},
     "output_type": "execute_result"
    }
   ],
   "source": [
    "import numpy as np\n",
    "\n",
    "num_list = [ [ 1 , 2 , 3 ] , [ 4 , 5 , 6 ] ]\n",
    "\n",
    "num_array = np.array(object = num_list)\n",
    "\n",
    "#Viewing num_array\n",
    "num_array"
   ]
  },
  {
   "cell_type": "code",
   "execution_count": 17,
   "id": "91cdd2a6-4474-49a5-9ea2-ca0dc51af99b",
   "metadata": {},
   "outputs": [
    {
     "data": {
      "text/plain": [
       "(2, 3)"
      ]
     },
     "execution_count": 17,
     "metadata": {},
     "output_type": "execute_result"
    }
   ],
   "source": [
    "# Showing num_array shape\n",
    "np.shape(num_array)"
   ]
  },
  {
   "cell_type": "code",
   "execution_count": 18,
   "id": "bc014ff6-d026-4ead-acdf-a13c1b2f042e",
   "metadata": {},
   "outputs": [
    {
     "data": {
      "text/plain": [
       "6"
      ]
     },
     "execution_count": 18,
     "metadata": {},
     "output_type": "execute_result"
    }
   ],
   "source": [
    "#Showing size\n",
    "np.size(num_array)"
   ]
  },
  {
   "cell_type": "markdown",
   "id": "9d421814-aa29-466b-b37e-9200a70c2eb1",
   "metadata": {},
   "source": [
    "# Question 5: Write a code to create numpy array of 3*3 matrix containing zeros only, using a numpy array creation function.\n",
    "[Hint: The size of the array will be 9 and the shape will be (3,3).]"
   ]
  },
  {
   "cell_type": "markdown",
   "id": "9bc1cb8d-8786-4b48-adf9-6956a48b442e",
   "metadata": {},
   "source": [
    "# Answer: "
   ]
  },
  {
   "cell_type": "code",
   "execution_count": 19,
   "id": "c32ff7ec-cc72-41a0-aa9b-771b94a61f60",
   "metadata": {},
   "outputs": [
    {
     "data": {
      "text/plain": [
       "array([[0., 0., 0.],\n",
       "       [0., 0., 0.],\n",
       "       [0., 0., 0.]])"
      ]
     },
     "execution_count": 19,
     "metadata": {},
     "output_type": "execute_result"
    }
   ],
   "source": [
    "## Using np.zeros to create a 3X3 matrix containing zeros\n",
    "arr5 = np.zeros((3,3))\n",
    "arr5"
   ]
  },
  {
   "cell_type": "code",
   "execution_count": 21,
   "id": "4a7cc4da-f342-45b2-a352-fb20f46613f7",
   "metadata": {},
   "outputs": [
    {
     "name": "stdout",
     "output_type": "stream",
     "text": [
      "Size of arr5 is 9\n",
      "Shape of arr5 is (3, 3)\n"
     ]
    }
   ],
   "source": [
    "# Verifying Matrix size and shape\n",
    "print(f'Size of arr5 is {arr5.size}')\n",
    "print(f'Shape of arr5 is {arr5.shape}')"
   ]
  },
  {
   "cell_type": "markdown",
   "id": "ab545247-ce6e-4259-b225-5ba5b21888d3",
   "metadata": {},
   "source": [
    "# "
   ]
  },
  {
   "cell_type": "markdown",
   "id": "881485b3-6955-4eed-b8ae-68fa64d620c5",
   "metadata": {},
   "source": [
    "# Question 6: \n",
    "Create an identity matrix of shape (5,5) using numpy functions?\n",
    "\n",
    "[Hint: An identity matrix is a matrix containing 1 diagonally and other elements will be 0.]"
   ]
  },
  {
   "cell_type": "markdown",
   "id": "ce2157b5-68f9-48bf-b775-1f29f9287627",
   "metadata": {},
   "source": [
    "Answer:"
   ]
  },
  {
   "cell_type": "code",
   "execution_count": 22,
   "id": "0b97d22b-797d-4614-ae74-14141c1f059a",
   "metadata": {},
   "outputs": [
    {
     "data": {
      "text/plain": [
       "array([[1., 0., 0., 0., 0.],\n",
       "       [0., 1., 0., 0., 0.],\n",
       "       [0., 0., 1., 0., 0.],\n",
       "       [0., 0., 0., 1., 0.],\n",
       "       [0., 0., 0., 0., 1.]])"
      ]
     },
     "execution_count": 22,
     "metadata": {},
     "output_type": "execute_result"
    }
   ],
   "source": [
    "# Creating identity matrix using np.eye\n",
    "arr6 = np.eye(5)\n",
    "arr6"
   ]
  },
  {
   "cell_type": "code",
   "execution_count": null,
   "id": "19d0449f-8f8f-4e8c-ad41-094893db9ae5",
   "metadata": {},
   "outputs": [],
   "source": []
  }
 ],
 "metadata": {
  "kernelspec": {
   "display_name": "Python 3 (ipykernel)",
   "language": "python",
   "name": "python3"
  },
  "language_info": {
   "codemirror_mode": {
    "name": "ipython",
    "version": 3
   },
   "file_extension": ".py",
   "mimetype": "text/x-python",
   "name": "python",
   "nbconvert_exporter": "python",
   "pygments_lexer": "ipython3",
   "version": "3.10.8"
  }
 },
 "nbformat": 4,
 "nbformat_minor": 5
}
